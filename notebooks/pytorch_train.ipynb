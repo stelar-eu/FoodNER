{
 "cells": [
  {
   "cell_type": "code",
   "execution_count": 1,
   "metadata": {
    "tags": []
   },
   "outputs": [
    {
     "name": "stderr",
     "output_type": "stream",
     "text": [
      "/home/geoph/.cache/pypoetry/virtualenvs/src-GIJ9yZz_-py3.8/lib/python3.8/site-packages/tqdm/auto.py:21: TqdmWarning: IProgress not found. Please update jupyter and ipywidgets. See https://ipywidgets.readthedocs.io/en/stable/user_install.html\n",
      "  from .autonotebook import tqdm as notebook_tqdm\n"
     ]
    }
   ],
   "source": [
    "import os\n",
    "\n",
    "import torch\n",
    "import numpy as np\n",
    "from torch.utils.data import DataLoader\n",
    "from torch.utils.data import DataLoader\n",
    "from transformers import BertTokenizerFast, BertModel\n",
    "from transformers import AutoModelForTokenClassification, TrainingArguments, Trainer, AutoModelForSequenceClassification\n",
    "from transformers import DataCollatorForTokenClassification\n",
    "from datasets import load_metric, load_from_disk\n",
    "from datasets import Dataset, DatasetDict\n",
    "\n",
    "from src.controllers import Controller\n",
    "from src.NLP.datasets.pytorch import PytorchProcessor\n",
    "from src.NLP.datasets.bert import BertProcessor\n",
    "from src.NER.pytorch_dataloader import Collator, PytorchDataset, get_dataloader\n",
    "from src.tools.general_tools import load_pickled_data\n",
    "from config.nlp_models import BERT_MODEL_NAME"
   ]
  },
  {
   "cell_type": "code",
   "execution_count": 2,
   "metadata": {
    "tags": []
   },
   "outputs": [],
   "source": [
    "c = Controller('pytorch')\n",
    "if os.listdir(os.path.join(\"..\", c._dataset_base_path)) == []:\n",
    "    trainset = PytorchProcessor('../data/trainset/annotations.jsonl')\n",
    "    trainset.to_pt_format(c._dataset_base_path)"
   ]
  },
  {
   "cell_type": "code",
   "execution_count": 3,
   "metadata": {
    "tags": []
   },
   "outputs": [],
   "source": [
    "train_path = os.path.join(\"..\", c._dataset_base_path, 'train.pk')\n",
    "assert os.path.isfile(train_path), f'Train dataset not found at {train_path}'\n",
    "word2idx_path = os.path.join(\"..\", c._dataset_base_path, 'word2idx.pk')\n",
    "assert os.path.isfile(word2idx_path), f'Word2idx not found at {word2idx_path}'\n",
    "label2idx_path = os.path.join(\"..\", c._dataset_base_path, 'label2idx.pk')\n",
    "assert os.path.isfile(label2idx_path), f'Label2idx not found at {label2idx_path}'"
   ]
  },
  {
   "cell_type": "code",
   "execution_count": 4,
   "metadata": {
    "tags": []
   },
   "outputs": [],
   "source": [
    "ds = PytorchDataset(train_path, word2idx_path, label2idx_path)"
   ]
  },
  {
   "cell_type": "code",
   "execution_count": 5,
   "metadata": {
    "tags": []
   },
   "outputs": [],
   "source": [
    "dl = get_dataloader(train_path, word2idx_path, label2idx_path, batch_size=2, shuffle=True, num_workers=0)"
   ]
  },
  {
   "cell_type": "markdown",
   "metadata": {},
   "source": [
    "## BERT format"
   ]
  },
  {
   "cell_type": "code",
   "execution_count": 6,
   "metadata": {
    "tags": []
   },
   "outputs": [
    {
     "name": "stderr",
     "output_type": "stream",
     "text": [
      "/tmp/ipykernel_29375/152412463.py:1: FutureWarning: load_metric is deprecated and will be removed in the next major version of datasets. Use 'evaluate.load' instead, from the new library 🤗 Evaluate: https://huggingface.co/docs/evaluate\n",
      "  metric = load_metric(\"seqeval\")\n"
     ]
    }
   ],
   "source": [
    "metric = load_metric(\"seqeval\")"
   ]
  },
  {
   "cell_type": "code",
   "execution_count": 7,
   "metadata": {},
   "outputs": [],
   "source": [
    "dataset = load_from_disk(\"../results/dataset/bert\")\n",
    "label_names = list(load_pickled_data(\"../results/dataset/bert/labels.pkl\"))\n",
    "tokenizer = BertTokenizerFast.from_pretrained(BERT_MODEL_NAME)"
   ]
  },
  {
   "cell_type": "code",
   "execution_count": 7,
   "metadata": {
    "tags": []
   },
   "outputs": [
    {
     "name": "stderr",
     "output_type": "stream",
     "text": [
      "2023-03-22 13:30:03.205 | INFO     | src.NLP.tokenizers.bert:__init__:14 - Loading BERT Tokenizer...\n",
      "1866it [00:11, 167.69it/s]\n",
      "2023-03-22 13:30:15.329 | INFO     | src.NLP.datasets.bert:load_data:113 - Loaded 1856 entries from ../data/trainset/annotations.jsonl and ignored 10 entries.\n",
      "2023-03-22 13:30:29.910 | INFO     | src.NLP.datasets.bert:to_bert_format:184 - Saved data under the None directory.\n"
     ]
    }
   ],
   "source": [
    "bertp = BertProcessor('../data/trainset/annotations.jsonl')\n",
    "label_names = list(bertp.labels)\n",
    "dataset = bertp.to_bert_format(None)\n",
    "tokenizer = bertp.tokenizer.tokenizer"
   ]
  },
  {
   "cell_type": "code",
   "execution_count": 8,
   "metadata": {
    "tags": []
   },
   "outputs": [
    {
     "data": {
      "text/plain": [
       "['Substance',\n",
       " 'Unit',\n",
       " 'Type',\n",
       " 'O',\n",
       " 'E Number',\n",
       " 'Usage',\n",
       " 'Substance Specification',\n",
       " 'INS Number',\n",
       " 'Comment',\n",
       " 'Operator',\n",
       " 'SKIP',\n",
       " 'Expressed As',\n",
       " 'Function',\n",
       " 'Value',\n",
       " 'Other Identifiers',\n",
       " 'CAS',\n",
       " 'Synonym',\n",
       " 'Class',\n",
       " 'Conditions Of Use']"
      ]
     },
     "execution_count": 8,
     "metadata": {},
     "output_type": "execute_result"
    }
   ],
   "source": [
    "label_names"
   ]
  },
  {
   "cell_type": "code",
   "execution_count": 9,
   "metadata": {
    "tags": []
   },
   "outputs": [],
   "source": [
    "data_collator = DataCollatorForTokenClassification(tokenizer)"
   ]
  },
  {
   "cell_type": "code",
   "execution_count": 10,
   "metadata": {
    "tags": []
   },
   "outputs": [],
   "source": [
    "def compute_metrics(p):\n",
    "    predictions, labels = p\n",
    "    predictions = np.argmax(predictions, axis=2)\n",
    "\n",
    "    # Remove ignored index (special tokens)\n",
    "    true_predictions = [\n",
    "        [label_names[p] for (p, l) in zip(prediction, label) if l != -100]\n",
    "        for prediction, label in zip(predictions, labels)\n",
    "    ]\n",
    "    true_labels = [\n",
    "        [label_names[l] for (p, l) in zip(prediction, label) if l != -100]\n",
    "        for prediction, label in zip(predictions, labels)\n",
    "    ]\n",
    "\n",
    "    results = metric.compute(predictions=true_predictions, references=true_labels)\n",
    "    flattened_results = {\n",
    "        \"overall_precision\": results[\"overall_precision\"],\n",
    "        \"overall_recall\": results[\"overall_recall\"],\n",
    "        \"overall_f1\": results[\"overall_f1\"],\n",
    "        \"overall_accuracy\": results[\"overall_accuracy\"],\n",
    "    }\n",
    "    for k in results.keys():\n",
    "      if(k not in flattened_results.keys()):\n",
    "        flattened_results[k+\"_f1\"]=results[k][\"f1\"]\n",
    "\n",
    "    return flattened_results"
   ]
  },
  {
   "cell_type": "code",
   "execution_count": 11,
   "metadata": {
    "tags": []
   },
   "outputs": [
    {
     "name": "stderr",
     "output_type": "stream",
     "text": [
      "Some weights of the model checkpoint at bert-base-cased were not used when initializing BertForTokenClassification: ['cls.predictions.decoder.weight', 'cls.predictions.transform.dense.weight', 'cls.predictions.transform.dense.bias', 'cls.predictions.bias', 'cls.seq_relationship.bias', 'cls.seq_relationship.weight', 'cls.predictions.transform.LayerNorm.bias', 'cls.predictions.transform.LayerNorm.weight']\n",
      "- This IS expected if you are initializing BertForTokenClassification from the checkpoint of a model trained on another task or with another architecture (e.g. initializing a BertForSequenceClassification model from a BertForPreTraining model).\n",
      "- This IS NOT expected if you are initializing BertForTokenClassification from the checkpoint of a model that you expect to be exactly identical (initializing a BertForSequenceClassification model from a BertForSequenceClassification model).\n",
      "Some weights of BertForTokenClassification were not initialized from the model checkpoint at bert-base-cased and are newly initialized: ['classifier.bias', 'classifier.weight']\n",
      "You should probably TRAIN this model on a down-stream task to be able to use it for predictions and inference.\n",
      "The following columns in the training set don't have a corresponding argument in `BertForTokenClassification.forward` and have been ignored: tokens, ner_tags_encoded. If tokens, ner_tags_encoded are not expected by `BertForTokenClassification.forward`,  you can safely ignore this message.\n",
      "/home/geoph/.cache/pypoetry/virtualenvs/src-GIJ9yZz_-py3.8/lib/python3.8/site-packages/transformers/optimization.py:306: FutureWarning: This implementation of AdamW is deprecated and will be removed in a future version. Use the PyTorch implementation torch.optim.AdamW instead, or set `no_deprecation_warning=True` to disable this warning\n",
      "  warnings.warn(\n",
      "***** Running training *****\n",
      "  Num examples = 1670\n",
      "  Num Epochs = 1\n",
      "  Instantaneous batch size per device = 1\n",
      "  Total train batch size (w. parallel, distributed & accumulation) = 1\n",
      "  Gradient Accumulation steps = 1\n",
      "  Total optimization steps = 1670\n",
      "  Number of trainable parameters = 107734291\n",
      "  0%|          | 0/1670 [00:00<?, ?it/s]You're using a BertTokenizerFast tokenizer. Please note that with a fast tokenizer, using the `__call__` method is faster than using a method to encode the text followed by a call to the `pad` method to get a padded encoding.\n",
      "  0%|          | 2/1670 [00:19<4:29:05,  9.68s/it]"
     ]
    },
    {
     "ename": "KeyboardInterrupt",
     "evalue": "",
     "output_type": "error",
     "traceback": [
      "\u001b[0;31m---------------------------------------------------------------------------\u001b[0m",
      "\u001b[0;31mKeyboardInterrupt\u001b[0m                         Traceback (most recent call last)",
      "Cell \u001b[0;32mIn[11], line 30\u001b[0m\n\u001b[1;32m      7\u001b[0m training_args \u001b[39m=\u001b[39m TrainingArguments(\n\u001b[1;32m      8\u001b[0m     output_dir\u001b[39m=\u001b[39m\u001b[39m\"\u001b[39m\u001b[39m../results/model/fine_tune_bert_output_cased\u001b[39m\u001b[39m\"\u001b[39m,\n\u001b[1;32m      9\u001b[0m     evaluation_strategy\u001b[39m=\u001b[39m\u001b[39m\"\u001b[39m\u001b[39mepoch\u001b[39m\u001b[39m\"\u001b[39m,\n\u001b[0;32m   (...)\u001b[0m\n\u001b[1;32m     18\u001b[0m     no_cuda\u001b[39m=\u001b[39m\u001b[39mTrue\u001b[39;00m\n\u001b[1;32m     19\u001b[0m )\n\u001b[1;32m     20\u001b[0m trainer \u001b[39m=\u001b[39m Trainer(\n\u001b[1;32m     21\u001b[0m     model\u001b[39m=\u001b[39mmodel,\n\u001b[1;32m     22\u001b[0m     args\u001b[39m=\u001b[39mtraining_args,\n\u001b[0;32m   (...)\u001b[0m\n\u001b[1;32m     27\u001b[0m     compute_metrics\u001b[39m=\u001b[39mcompute_metrics\n\u001b[1;32m     28\u001b[0m )\n\u001b[0;32m---> 30\u001b[0m trainer\u001b[39m.\u001b[39;49mtrain()\n",
      "File \u001b[0;32m~/.cache/pypoetry/virtualenvs/src-GIJ9yZz_-py3.8/lib/python3.8/site-packages/transformers/trainer.py:1543\u001b[0m, in \u001b[0;36mTrainer.train\u001b[0;34m(self, resume_from_checkpoint, trial, ignore_keys_for_eval, **kwargs)\u001b[0m\n\u001b[1;32m   1538\u001b[0m     \u001b[39mself\u001b[39m\u001b[39m.\u001b[39mmodel_wrapped \u001b[39m=\u001b[39m \u001b[39mself\u001b[39m\u001b[39m.\u001b[39mmodel\n\u001b[1;32m   1540\u001b[0m inner_training_loop \u001b[39m=\u001b[39m find_executable_batch_size(\n\u001b[1;32m   1541\u001b[0m     \u001b[39mself\u001b[39m\u001b[39m.\u001b[39m_inner_training_loop, \u001b[39mself\u001b[39m\u001b[39m.\u001b[39m_train_batch_size, args\u001b[39m.\u001b[39mauto_find_batch_size\n\u001b[1;32m   1542\u001b[0m )\n\u001b[0;32m-> 1543\u001b[0m \u001b[39mreturn\u001b[39;00m inner_training_loop(\n\u001b[1;32m   1544\u001b[0m     args\u001b[39m=\u001b[39;49margs,\n\u001b[1;32m   1545\u001b[0m     resume_from_checkpoint\u001b[39m=\u001b[39;49mresume_from_checkpoint,\n\u001b[1;32m   1546\u001b[0m     trial\u001b[39m=\u001b[39;49mtrial,\n\u001b[1;32m   1547\u001b[0m     ignore_keys_for_eval\u001b[39m=\u001b[39;49mignore_keys_for_eval,\n\u001b[1;32m   1548\u001b[0m )\n",
      "File \u001b[0;32m~/.cache/pypoetry/virtualenvs/src-GIJ9yZz_-py3.8/lib/python3.8/site-packages/transformers/trainer.py:1836\u001b[0m, in \u001b[0;36mTrainer._inner_training_loop\u001b[0;34m(self, batch_size, args, resume_from_checkpoint, trial, ignore_keys_for_eval)\u001b[0m\n\u001b[1;32m   1833\u001b[0m         model\u001b[39m.\u001b[39mclip_grad_norm_(args\u001b[39m.\u001b[39mmax_grad_norm)\n\u001b[1;32m   1834\u001b[0m     \u001b[39melse\u001b[39;00m:\n\u001b[1;32m   1835\u001b[0m         \u001b[39m# Revert to normal clipping otherwise, handling Apex or full precision\u001b[39;00m\n\u001b[0;32m-> 1836\u001b[0m         nn\u001b[39m.\u001b[39;49mutils\u001b[39m.\u001b[39;49mclip_grad_norm_(\n\u001b[1;32m   1837\u001b[0m             amp\u001b[39m.\u001b[39;49mmaster_params(\u001b[39mself\u001b[39;49m\u001b[39m.\u001b[39;49moptimizer) \u001b[39mif\u001b[39;49;00m \u001b[39mself\u001b[39;49m\u001b[39m.\u001b[39;49muse_apex \u001b[39melse\u001b[39;49;00m model\u001b[39m.\u001b[39;49mparameters(),\n\u001b[1;32m   1838\u001b[0m             args\u001b[39m.\u001b[39;49mmax_grad_norm,\n\u001b[1;32m   1839\u001b[0m         )\n\u001b[1;32m   1841\u001b[0m \u001b[39m# Optimizer step\u001b[39;00m\n\u001b[1;32m   1842\u001b[0m optimizer_was_run \u001b[39m=\u001b[39m \u001b[39mTrue\u001b[39;00m\n",
      "File \u001b[0;32m~/.cache/pypoetry/virtualenvs/src-GIJ9yZz_-py3.8/lib/python3.8/site-packages/torch/nn/utils/clip_grad.py:56\u001b[0m, in \u001b[0;36mclip_grad_norm_\u001b[0;34m(parameters, max_norm, norm_type, error_if_nonfinite)\u001b[0m\n\u001b[1;32m     54\u001b[0m clip_coef_clamped \u001b[39m=\u001b[39m torch\u001b[39m.\u001b[39mclamp(clip_coef, \u001b[39mmax\u001b[39m\u001b[39m=\u001b[39m\u001b[39m1.0\u001b[39m)\n\u001b[1;32m     55\u001b[0m \u001b[39mfor\u001b[39;00m g \u001b[39min\u001b[39;00m grads:\n\u001b[0;32m---> 56\u001b[0m     g\u001b[39m.\u001b[39;49mdetach()\u001b[39m.\u001b[39;49mmul_(clip_coef_clamped\u001b[39m.\u001b[39;49mto(g\u001b[39m.\u001b[39;49mdevice))\n\u001b[1;32m     57\u001b[0m \u001b[39mreturn\u001b[39;00m total_norm\n",
      "\u001b[0;31mKeyboardInterrupt\u001b[0m: "
     ]
    }
   ],
   "source": [
    "model = AutoModelForTokenClassification.from_pretrained(\n",
    "# model = AutoModelForSequenceClassification.from_pretrained(\n",
    "    BERT_MODEL_NAME, num_labels=len(label_names)#, vocab_size = len(bertp.vocab), ignore_mismatched_sizes=True\n",
    ").to('cpu')\n",
    "# model.config.vocab_size = len(bertp.vocab)\n",
    "# model.resize_token_embeddings(len(bertp.vocab))\n",
    "training_args = TrainingArguments(\n",
    "    output_dir=\"../results/model/fine_tune_bert_output_cased\",\n",
    "    evaluation_strategy=\"epoch\",\n",
    "    learning_rate=2e-5,\n",
    "    per_device_train_batch_size=1,\n",
    "    per_device_eval_batch_size=1,\n",
    "    num_train_epochs=1,\n",
    "    weight_decay=0.01,\n",
    "    logging_steps = 1000,\n",
    "    # run_name = \"ep_3_tokenized_11\",\n",
    "    save_strategy='steps',\n",
    "    no_cuda=True\n",
    ")\n",
    "trainer = Trainer(\n",
    "    model=model,\n",
    "    args=training_args,\n",
    "    train_dataset=dataset['train'],\n",
    "    eval_dataset=dataset['eval'],\n",
    "    data_collator=data_collator,\n",
    "    tokenizer=tokenizer,\n",
    "    compute_metrics=compute_metrics\n",
    ")\n",
    "\n",
    "trainer.train()"
   ]
  }
 ],
 "metadata": {
  "kernelspec": {
   "display_name": "src-GIJ9yZz_-py3.8",
   "language": "python",
   "name": "python3"
  },
  "language_info": {
   "codemirror_mode": {
    "name": "ipython",
    "version": 3
   },
   "file_extension": ".py",
   "mimetype": "text/x-python",
   "name": "python",
   "nbconvert_exporter": "python",
   "pygments_lexer": "ipython3",
   "version": "3.8.6"
  },
  "vscode": {
   "interpreter": {
    "hash": "7d05cb7d951b8036ae68f3a280aed36c3e6d36951248d87ebe17c17bdf4a6f2a"
   }
  }
 },
 "nbformat": 4,
 "nbformat_minor": 4
}
